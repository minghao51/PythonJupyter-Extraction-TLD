{
 "cells": [
  {
   "cell_type": "code",
   "execution_count": 1,
   "metadata": {
    "collapsed": true
   },
   "outputs": [],
   "source": [
    "# Attempting to create a python routine that would process and extract relevent parameters in R license\n",
    "# modules\n",
    "import re    \n",
    "\n",
    "# empty var and list\n",
    "MyValues = [] # create an empty list for text file"
   ]
  },
  {
   "cell_type": "code",
   "execution_count": 12,
   "metadata": {
    "collapsed": false
   },
   "outputs": [
    {
     "name": "stdout",
     "output_type": "stream",
     "text": [
      "['C:\\\\Users\\\\howt51\\\\Desktop\\\\Untitled folder\\\\pdftest\\\\234.txt']\n",
      "LICENCE NO : Rl/00986/1227 \n",
      "ISSUE DATE : 10th Apr 2015 \n",
      "START DATE : 1st May 2015 \n",
      "EXPIRY DATE: 30th Apr 2016 \n",
      "LICENCE HOLDER : ABDUL SY AFIQ BIN ABDUL RAHMAN (S8937232A -SG) \n",
      "['LICENCE', 'NO', ':', 'Rl/00986/1227']\n",
      "licenceNo : Rl/00986/1227\n",
      "['ISSUE', 'DATE', ':', '10th', 'Apr', '2015']\n",
      "['START', 'DATE', ':', '1st', 'May', '2015']\n",
      "['EXPIRY', 'DATE:', '30th', 'Apr', '2016']\n"
     ]
    },
    {
     "ename": "ValueError",
     "evalue": "':' is not in list",
     "output_type": "error",
     "traceback": [
      "\u001b[1;31m---------------------------------------------------------------------------\u001b[0m",
      "\u001b[1;31mValueError\u001b[0m                                Traceback (most recent call last)",
      "\u001b[1;32m<ipython-input-12-6d2bdfea19a3>\u001b[0m in \u001b[0;36m<module>\u001b[1;34m()\u001b[0m\n\u001b[0;32m     46\u001b[0m     \u001b[1;32mfor\u001b[0m \u001b[0mi\u001b[0m \u001b[1;32min\u001b[0m \u001b[0mrange\u001b[0m\u001b[1;33m(\u001b[0m\u001b[1;36m0\u001b[0m\u001b[1;33m,\u001b[0m\u001b[0mlen\u001b[0m\u001b[1;33m(\u001b[0m\u001b[0mMyValues\u001b[0m\u001b[1;33m)\u001b[0m\u001b[1;33m)\u001b[0m\u001b[1;33m:\u001b[0m\u001b[1;33m\u001b[0m\u001b[0m\n\u001b[0;32m     47\u001b[0m         \u001b[1;32mprint\u001b[0m \u001b[0mMyValues\u001b[0m\u001b[1;33m[\u001b[0m\u001b[0mi\u001b[0m\u001b[1;33m]\u001b[0m\u001b[1;33m\u001b[0m\u001b[0m\n\u001b[1;32m---> 48\u001b[1;33m         \u001b[0mk\u001b[0m \u001b[1;33m=\u001b[0m \u001b[0mMyValues\u001b[0m\u001b[1;33m[\u001b[0m\u001b[0mi\u001b[0m\u001b[1;33m]\u001b[0m\u001b[1;33m.\u001b[0m\u001b[0mindex\u001b[0m\u001b[1;33m(\u001b[0m\u001b[1;34m\":\"\u001b[0m\u001b[1;33m)\u001b[0m\u001b[1;33m\u001b[0m\u001b[0m\n\u001b[0m\u001b[0;32m     49\u001b[0m         \u001b[0mFilter_MyValues\u001b[0m\u001b[1;33m.\u001b[0m\u001b[0mappend\u001b[0m\u001b[1;33m(\u001b[0m\u001b[0mMyValues\u001b[0m\u001b[1;33m[\u001b[0m\u001b[0mi\u001b[0m\u001b[1;33m]\u001b[0m\u001b[1;33m[\u001b[0m\u001b[0mk\u001b[0m\u001b[1;33m+\u001b[0m\u001b[1;36m1\u001b[0m\u001b[1;33m:\u001b[0m\u001b[0mlen\u001b[0m\u001b[1;33m(\u001b[0m\u001b[0mMyValues\u001b[0m\u001b[1;33m[\u001b[0m\u001b[0mi\u001b[0m\u001b[1;33m]\u001b[0m\u001b[1;33m)\u001b[0m\u001b[1;33m]\u001b[0m\u001b[1;33m)\u001b[0m\u001b[1;33m\u001b[0m\u001b[0m\n\u001b[0;32m     50\u001b[0m         \u001b[1;31m# print MyValues[i][k+1:len(MyValues[i])]\u001b[0m\u001b[1;33m\u001b[0m\u001b[1;33m\u001b[0m\u001b[0m\n",
      "\u001b[1;31mValueError\u001b[0m: ':' is not in list"
     ]
    }
   ],
   "source": [
    "import re\n",
    "import sys\n",
    "import glob\n",
    "import csv\n",
    "import datetime  #https://docs.python.org/2/library/datetime.html\n",
    "import os\n",
    "\n",
    "#emptying variable\n",
    "finputdir = []\n",
    "FileInput = []\n",
    "MyValues = []\n",
    "Filter_MyValues = []\n",
    "IssueDate= []\n",
    "licenceNo = []\n",
    "StartDate = []\n",
    "VStartDate =[]\n",
    "ExpiryDate = []\n",
    "VExpiryDate =[]\n",
    "Name = []\n",
    "ID = []\n",
    "i=1\n",
    "k=1\n",
    "input =[]\n",
    "\n",
    "#Assigning the parameters\n",
    "search_term = ['LICENCE NO', 'ISSUE DATE' , 'START DATE', 'EXPIRY DATE', 'LICENCE HOLDER']\n",
    "# print search_term[0]  # just to check whether the list are assgined properly\n",
    "finputdir = 'C:\\Users\\howt51\\Desktop\\Untitled folder\\pdftest' # input directory\n",
    "foutput = 'r1list.csv' # outputing the results in csv\n",
    "\n",
    "for filename in glob.glob(os.path.join(finputdir, '*.txt')):\n",
    "    FileInput.append(filename)\n",
    "    print FileInput\n",
    "    MyValues = [] # flush out previous files Values\n",
    "    Filter_MyValues = [] # flush out previous files Values\n",
    "\n",
    "    for line in open(filename, 'r'): #going through the lines of the text file\n",
    "        for i in range(0, len(search_term)): # This will loop through the search_terms\n",
    "            if re.search(search_term[i], line):\n",
    "                print line, \n",
    "                line_s = line.split()\n",
    "                MyValues.append(line_s)\n",
    "\n",
    "\n",
    "    #finding all index of ':' in all the MyValues, then printing only values after it\n",
    "    for i in range(0,len(MyValues)):\n",
    "        print MyValues[i]\n",
    "        k = MyValues[i].index(\":\")\n",
    "        Filter_MyValues.append(MyValues[i][k+1:len(MyValues[i])])\n",
    "        # print MyValues[i][k+1:len(MyValues[i])]\n",
    "        \n",
    "        if i  == (len(MyValues)-1): # For the last line that is grepped (Name and ID) (-1 as len() gave number of elements)\n",
    "            # Extracting and Combining Name\n",
    "            #Name = ' '.join(Filter_MyValues[i][0:len(Filter_MyValues[i-1])])\n",
    "            Name.append(' '.join(Filter_MyValues[i][0:-1]))\n",
    "            # Extracting ID\n",
    "            ID.append(Filter_MyValues[i][-1][1:-1]) # because the last cell is ID\n",
    "            \n",
    "        elif i == (len(MyValues)-2):  # For the 2nd Last line that is grepped (ExpiryDate)\n",
    "            # ExpiryDate\n",
    "            Day =  Filter_MyValues[i][0][:-2]\n",
    "            Month = Filter_MyValues[i][1]\n",
    "            Year = Filter_MyValues[i][2]\n",
    "            input = ' '.join([Day, Month, Year])\n",
    "            VExpiryDate = datetime.datetime.strptime(input, \"%d %b %Y\") # 29 Feb 2016\n",
    "            VExpiryDate = VExpiryDate.strftime(\"%d %m %Y\") # 29 02 2016\n",
    "            ExpiryDate.append(VExpiryDate)\n",
    "            # print ExpiryDate\n",
    "            \n",
    "        elif i == (len(MyValues)-3):  # For the 3nd Last line that is grepped (ExpiryDate)\n",
    "            # StartDate, Extracting individual items\n",
    "            Day =  Filter_MyValues[i][0][:-2]\n",
    "            Month = Filter_MyValues[i][1]\n",
    "            Year = Filter_MyValues[i][2]\n",
    "            input = ' '.join([Day, Month, Year]) # joining them together to be inputted\n",
    "            VStartDate = datetime.datetime.strptime(input, \"%d %b %Y\") # 29 Feb 2016\n",
    "            VStartDate = VStartDate.strftime(\"%d %m %Y\") # 29 02 2016\n",
    "            StartDate.append(VStartDate)\n",
    "            \n",
    "            # print StartDate\n",
    "        elif i == (len(MyValues)-4):  # For the 3nd Last line that is grepped (IssueDate)\n",
    "            # IssueDate, Extracting individual items\n",
    "            Day =  Filter_MyValues[i][0][:-2]\n",
    "            Month = Filter_MyValues[i][1]\n",
    "            Year = Filter_MyValues[i][2]\n",
    "            input = ' '.join([Day, Month, Year])# joining them together to be inputted\n",
    "            IssueDate = datetime.datetime.strptime(input, \"%d %b %Y\") # 29 Feb 2016\n",
    "            IssueDate = IssueDate.strftime(\"%d %m %Y\") # 29 02 2016\n",
    "            # print IssueDate\n",
    "            \n",
    "        elif i==0:\n",
    "            licenceNo = Filter_MyValues[i][0]\n",
    "            print 'licenceNo : %s' % licenceNo \n",
    "            \n",
    "\n",
    "# now to print to csv, and hopefully processsed all txt file in a directory\n",
    "with open(foutput,'wb') as csvfile: # Because we are using Python27, hence the 'wb' instead of 'w'\n",
    "    fieldnames = ['Name', 'ID', 'StartDate','ExpiryDate']\n",
    "    writer = csv.DictWriter(csvfile, fieldnames = fieldnames)\n",
    "    \n",
    "    writer.writeheader()\n",
    "    for i  in range (0,len(Name)):\n",
    "        writer.writerow({'Name':Name[i], 'ID': ID[i], 'StartDate':StartDate[i], 'ExpiryDate': ExpiryDate[i]})\n",
    "    #for  i in range (0:len(name))\n",
    "    \n",
    "    \n",
    "#Outputing number of parameters for checking\n",
    "print \"\"\n",
    "print 'Extracted %s set of parameters from PDFs' % len(Name)\n",
    "\n",
    "\n",
    "# print '%s.pdf' % FileInput[1][:-4] \n",
    "# print ''.join(FileInput[1][:-4]+'.pdf')\n",
    "# print '%s' % len(FileInput)\n",
    "# print os.path.join(finputdir, Name[i] +\".pdf\")\n",
    "for i in range(0, len(FileInput)):\n",
    "    os.rename(''.join(FileInput[i][:-4]+'.pdf'),  #taking out the .txt(4 characters)\n",
    "             os.path.join(finputdir, Name[i] + \".pdf\"))\n"
   ]
  },
  {
   "cell_type": "code",
   "execution_count": null,
   "metadata": {
    "collapsed": true
   },
   "outputs": [],
   "source": [
    "#Renaming the PDFs to their 'Name.pdf'\n",
    "#Got these from http://stackoverflow.com/questions/225735/batch-renaming-of-files-in-a-directory\n",
    "#import glob, os\n",
    "\n",
    "def rename(dir, pattern, titlePattern):\n",
    "    for pathAndFilename in glob.iglob(os.path.join(dir, pattern)):\n",
    "        title, ext = os.path.splitext(os.path.basename(pathAndFilename))\n",
    "        os.rename(pathAndFilename, \n",
    "                  os.path.join(dir, titlePattern % title + ext))"
   ]
  },
  {
   "cell_type": "code",
   "execution_count": 4,
   "metadata": {
    "collapsed": false
   },
   "outputs": [],
   "source": [
    "finputdir = 'C:\\Users\\howt51\\Desktop\\Untitled folder\\\\r1testdir\\samplerlicense.txt' # input directory\n",
    "foutput = 'r1list.csv' # outputing the results in csv\n",
    "\n",
    "\n",
    "for filename in glob.glob(os.path.join(finputdir, '*.txt')):\n",
    "    print 'sasd'"
   ]
  }
 ],
 "metadata": {
  "kernelspec": {
   "display_name": "Python 2",
   "language": "python",
   "name": "python2"
  },
  "language_info": {
   "codemirror_mode": {
    "name": "ipython",
    "version": 2
   },
   "file_extension": ".py",
   "mimetype": "text/x-python",
   "name": "python",
   "nbconvert_exporter": "python",
   "pygments_lexer": "ipython2",
   "version": "2.7.11"
  }
 },
 "nbformat": 4,
 "nbformat_minor": 0
}
