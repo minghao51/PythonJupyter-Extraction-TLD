{
 "cells": [
  {
   "cell_type": "code",
   "execution_count": null,
   "metadata": {
    "collapsed": true
   },
   "outputs": [],
   "source": []
  },
  {
   "cell_type": "code",
   "execution_count": 73,
   "metadata": {
    "collapsed": false
   },
   "outputs": [
    {
     "name": "stdout",
     "output_type": "stream",
     "text": [
      "ABDUL RAHMAN ARIP\n",
      "ARIP Ring\n"
     ]
    },
    {
     "ename": "TypeError",
     "evalue": "list indices must be integers, not list",
     "output_type": "error",
     "traceback": [
      "\u001b[1;31m---------------------------------------------------------------------------\u001b[0m",
      "\u001b[1;31mTypeError\u001b[0m                                 Traceback (most recent call last)",
      "\u001b[1;32m<ipython-input-73-c54d31aa2e56>\u001b[0m in \u001b[0;36m<module>\u001b[1;34m()\u001b[0m\n\u001b[0;32m     43\u001b[0m \u001b[1;31m#         print i\u001b[0m\u001b[1;33m\u001b[0m\u001b[1;33m\u001b[0m\u001b[0m\n\u001b[0;32m     44\u001b[0m \u001b[1;33m\u001b[0m\u001b[0m\n\u001b[1;32m---> 45\u001b[1;33m \u001b[1;33m[\u001b[0m\u001b[0mi\u001b[0m \u001b[1;32mfor\u001b[0m \u001b[0mi\u001b[0m\u001b[1;33m,\u001b[0m \u001b[0mj\u001b[0m \u001b[1;32min\u001b[0m \u001b[0menumerate\u001b[0m\u001b[1;33m(\u001b[0m\u001b[0mMyValues\u001b[0m\u001b[1;33m[\u001b[0m\u001b[0mi\u001b[0m\u001b[1;33m]\u001b[0m\u001b[1;33m)\u001b[0m \u001b[1;32mif\u001b[0m \u001b[0mj\u001b[0m \u001b[1;33m==\u001b[0m \u001b[1;34m'Body'\u001b[0m\u001b[1;33m]\u001b[0m\u001b[1;33m\u001b[0m\u001b[0m\n\u001b[0m\u001b[0;32m     46\u001b[0m \u001b[1;31m# for k in range(0,20):\u001b[0m\u001b[1;33m\u001b[0m\u001b[1;33m\u001b[0m\u001b[0m\n\u001b[0;32m     47\u001b[0m \u001b[1;31m#     matches = [i for i, j in enumerate(MyValues[k]) if j == 'Body']\u001b[0m\u001b[1;33m\u001b[0m\u001b[1;33m\u001b[0m\u001b[0m\n",
      "\u001b[1;31mTypeError\u001b[0m: list indices must be integers, not list"
     ]
    }
   ],
   "source": [
    "import re\n",
    "\n",
    "# Empty variable\n",
    "i = []\n",
    "k = []\n",
    "j = []\n",
    "TAG = []\n",
    "MyValues = [] # create an empty list for text file\n",
    "search_term = []\n",
    "\n",
    "# Varaible\n",
    "search_term = ['Body', 'Ring']\n",
    "\n",
    "#Initialise\n",
    "TAG = False\n",
    "\n",
    "# This section is to remove extra cells and noise, then assign the line as MyValues\n",
    "for line in open('C:\\Users\\howt51\\Desktop\\Untitled folder\\sample.txt'):\n",
    "    if TAG == False:\n",
    "        if re.search(\"Body\", line): # remove all lines before \"Body\".\n",
    "            TAG = True\n",
    "            line = line.split()\n",
    "            MyValues.append(line)\n",
    "    elif TAG == True:\n",
    "        if re.search(\"Remarks\", line): # Remove all lines with \"Remarks\" and all lines at the end of the file\n",
    "            TAG = False\n",
    "        else:\n",
    "            line = line.split() # remove exessive tabs between and after\n",
    "            MyValues.append(line)\n",
    "\n",
    "#Testing the output\n",
    "print  \" \".join([MyValues[0][0], MyValues[1][0], MyValues[2][0]])\n",
    "#print  MyValues[0][0]+ MyValues[1][0] + MyValues[2][0]        \n",
    "#print MyValues\n",
    "print  ' '.join(MyValues[2])\n",
    "# print len(MyValues[:][3])\n",
    "        \n",
    "#       line = line.split() # remove exessive tabs between and after\n",
    "# MyValues.append(line) # this combines the line into a list of cells\n",
    "\n",
    "# for i, j in enumerate(MyValues[:][i]):\n",
    "#     if j == 'Body':\n",
    "#         print i\n",
    "        \n",
    "[i for i, j in enumerate(MyValues[i]) if j == 'Body']\n",
    "# for k in range(0,20):\n",
    "#     matches = [i for i, j in enumerate(MyValues[k]) if j == 'Body']\n",
    "#     print matches\n",
    "    "
   ]
  },
  {
   "cell_type": "code",
   "execution_count": 10,
   "metadata": {
    "collapsed": true
   },
   "outputs": [],
   "source": [
    "# Adopted from http://stackoverflow.com/questions/16685384/finding-the-indices-of-matching-elements-in-list-in-python/16685428#16685428\n",
    "#  have a long list of float numbers ranging from 1 to 5, called \"average\", and I want to return the list of indices for elements that are smaller than a or larger than b\n",
    "#\n",
    "def FindRange(lst, a, b):\n",
    "    result = []\n",
    "    for i, x in enumerate(lst):\n",
    "        if x<a or x>b:\n",
    "            result.append(i)\n",
    "    return result"
   ]
  },
  {
   "cell_type": "code",
   "execution_count": null,
   "metadata": {
    "collapsed": true
   },
   "outputs": [],
   "source": [
    "def find_range(lst, a, b):\n",
    "    return [i for i, x in enumerate(lst) if x<a or x>b]"
   ]
  },
  {
   "cell_type": "code",
   "execution_count": 70,
   "metadata": {
    "collapsed": false
   },
   "outputs": [
    {
     "name": "stdout",
     "output_type": "stream",
     "text": [
      "4\n",
      "5\n",
      "6\n"
     ]
    },
    {
     "data": {
      "text/plain": [
       "[4, 5, 6]"
      ]
     },
     "execution_count": 70,
     "metadata": {},
     "output_type": "execute_result"
    }
   ],
   "source": [
    "#http://stackoverflow.com/questions/176918/finding-the-index-of-an-item-given-a-list-containing-it-in-python?lq=1\n",
    "\n",
    "aaa= []\n",
    "aaa = ['CHEONG','CHEE','S7613920B','Body','0.19','0.19','0.19','5.33', 'B']\n",
    "for i, j in enumerate(aaa):\n",
    "    if j == '0.19':\n",
    "        print i\n",
    "        \n",
    "        \n",
    "#This can be more useful than index if there are duplicates in the list, because index() only returns the first occurrence, while enumerate returns all occurrences.\n",
    "\n",
    "#As a list comprehension:\n",
    "\n",
    "[i for i, j in enumerate(aaa) if j == '0.19']"
   ]
  },
  {
   "cell_type": "code",
   "execution_count": null,
   "metadata": {
    "collapsed": false
   },
   "outputs": [
    {
     "name": "stdout",
     "output_type": "stream",
     "text": [
      "Running unit tests for pandas\n",
      "pandas version 0.18.0\n",
      "numpy version 1.10.4\n",
      "pandas is installed in c:\\python27\\lib\\site-packages\\pandas\n",
      "Python version 2.7.11 (v2.7.11:6d1b6a68f775, Dec  5 2015, 20:32:19) [MSC v.1500 32 bit (Intel)]\n",
      "nose version 1.3.7\n"
     ]
    },
    {
     "name": "stderr",
     "output_type": "stream",
     "text": [
      "c:\\python27\\lib\\site-packages\\nose\\importer.py:94: FutureWarning: The pandas.rpy module is deprecated and will be removed in a future version. We refer to external packages like rpy2. \n",
      "See here for a guide on how to port your code to rpy2: http://pandas.pydata.org/pandas-docs/stable/r_interface.html\n",
      "  mod = load_module(part_fqname, fh, filename, desc)\n",
      "S..SS..SS..SS..SS..SS..SS..SS..SSSSSSSSSSSSSS..SS..SS..SSSS...........SS..SS..SS..SS..SS..SS................SSSSSSSSSSSSSSSS..SS..SS.....SS...........S....S........S......S.SSSSSSSSSSSSSSSSSSSSSSSSSSSSSSSSSSSSSSSSSSSSSSSSSSSSSSSSSSSSSSSSSSSSSSSSSSSSSSSSSSSSSSSSSSSSSSSSSSSSSSSSSSSSSSSSSSSSSSSSSSSSSSSSSSSSSSSSSSSSSSSSSSSSSSSSSSSSSSSSSSSSSSSSSSSSSSSSSSSSSSSSSSSSSSSSSSSSSSSSSSSSSSSSSSSSSSSSSSSSSSSSSSSSSSSSSSSSSSSSSSSSSSSSSSSSSSSSSSSSSSSSSSSSSSSSSSSSSSSSSSSSSSSSSSSSSSSSSSSSSSSSSSSSSSSSSSSSSSSSSSSSSSSS.SSSSS.S..................................................................................................................................S...................................................S..SS.S.............................................S.................................................................................................................S......F..............S..........................S......................................................................S..S...........................................F......S............S........................................................................................................................................"
     ]
    }
   ],
   "source": [
    "import pandas as pd\n",
    "pd.test()"
   ]
  }
 ],
 "metadata": {
  "kernelspec": {
   "display_name": "Python 2",
   "language": "python",
   "name": "python2"
  },
  "language_info": {
   "codemirror_mode": {
    "name": "ipython",
    "version": 2
   },
   "file_extension": ".py",
   "mimetype": "text/x-python",
   "name": "python",
   "nbconvert_exporter": "python",
   "pygments_lexer": "ipython2",
   "version": "2.7.11"
  }
 },
 "nbformat": 4,
 "nbformat_minor": 0
}
